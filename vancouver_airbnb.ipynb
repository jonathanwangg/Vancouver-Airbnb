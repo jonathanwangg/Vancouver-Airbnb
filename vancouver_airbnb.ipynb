{
 "cells": [
  {
   "cell_type": "markdown",
   "metadata": {},
   "source": [
    "# Vancouver Airbnb Price Prediction"
   ]
  },
  {
   "cell_type": "code",
   "execution_count": 67,
   "metadata": {
    "collapsed": true
   },
   "outputs": [],
   "source": [
    "import os\n",
    "import numpy as np\n",
    "import pandas as pd\n",
    "import matplotlib.pyplot as plt\n",
    "from sklearn.preprocessing import normalize\n",
    "from sklearn.model_selection import train_test_split\n",
    "from sklearn.linear_model import LinearRegression\n",
    "from sklearn.linear_model import Ridge\n",
    "from sklearn.linear_model import LogisticRegression\n",
    "from sklearn.neural_network import MLPRegressor\n",
    "from sklearn.ensemble import RandomForestRegressor\n",
    "from sklearn.feature_selection import RFE\n",
    "\n",
    "%matplotlib inline"
   ]
  },
  {
   "cell_type": "code",
   "execution_count": 68,
   "metadata": {
    "collapsed": true
   },
   "outputs": [],
   "source": [
    "# Read in excel file data\n",
    "df = pd.read_csv('data/vancouver_listings_full.csv')"
   ]
  },
  {
   "cell_type": "code",
   "execution_count": 69,
   "metadata": {},
   "outputs": [
    {
     "name": "stdout",
     "output_type": "stream",
     "text": [
      "(6651, 96)\n",
      "['id', 'listing_url', 'scrape_id', 'last_scraped', 'name', 'summary', 'space', 'description', 'experiences_offered', 'neighborhood_overview', 'notes', 'transit', 'access', 'interaction', 'house_rules', 'thumbnail_url', 'medium_url', 'picture_url', 'xl_picture_url', 'host_id', 'host_url', 'host_name', 'host_since', 'host_location', 'host_about', 'host_response_time', 'host_response_rate', 'host_acceptance_rate', 'host_is_superhost', 'host_thumbnail_url', 'host_picture_url', 'host_neighbourhood', 'host_listings_count', 'host_total_listings_count', 'host_verifications', 'host_has_profile_pic', 'host_identity_verified', 'street', 'neighbourhood', 'neighbourhood_cleansed', 'neighbourhood_group_cleansed', 'city', 'state', 'zipcode', 'market', 'smart_location', 'country_code', 'country', 'latitude', 'longitude', 'is_location_exact', 'property_type', 'room_type', 'accommodates', 'bathrooms', 'bedrooms', 'beds', 'bed_type', 'amenities', 'square_feet', 'price', 'weekly_price', 'monthly_price', 'security_deposit', 'cleaning_fee', 'guests_included', 'extra_people', 'minimum_nights', 'maximum_nights', 'calendar_updated', 'has_availability', 'availability_30', 'availability_60', 'availability_90', 'availability_365', 'calendar_last_scraped', 'number_of_reviews', 'first_review', 'last_review', 'review_scores_rating', 'review_scores_accuracy', 'review_scores_cleanliness', 'review_scores_checkin', 'review_scores_communication', 'review_scores_location', 'review_scores_value', 'requires_license', 'license', 'jurisdiction_names', 'instant_bookable', 'is_business_travel_ready', 'cancellation_policy', 'require_guest_profile_picture', 'require_guest_phone_verification', 'calculated_host_listings_count', 'reviews_per_month']\n"
     ]
    }
   ],
   "source": [
    "print(df.shape)\n",
    "\n",
    "print(df.columns.tolist())"
   ]
  },
  {
   "cell_type": "markdown",
   "metadata": {},
   "source": [
    "We start off with 6651 observations (ie. listings) and 96 features for each of the listings."
   ]
  },
  {
   "cell_type": "markdown",
   "metadata": {},
   "source": [
    "### Data Cleaning (Remove Unnecessary Symbols)"
   ]
  },
  {
   "cell_type": "code",
   "execution_count": 78,
   "metadata": {},
   "outputs": [
    {
     "name": "stdout",
     "output_type": "stream",
     "text": [
      "<class 'pandas.core.series.Series'>\n"
     ]
    }
   ],
   "source": [
    "# Remove the dollar signs in the 'extra_people' column\n",
    "df['extra_people'] = df['extra_people'].astype(str)\n",
    "df['extra_people'] = df['extra_people'].str.replace('$', '')\n",
    "df['extra_people'] = df['extra_people'].astype(float)\n",
    "\n",
    "# Remove the dollar signs and commas in the 'price' column\n",
    "df['price'] = df['price'].astype(str)\n",
    "df['price'] = df['price'].str.replace('$', '')\n",
    "df['price'] = df['price'].str.replace(',', '')\n",
    "df['price'] = df['price'].astype(float)\n",
    "\n",
    "# Remove the dollar signs and commas in the 'security_deposit' column\n",
    "df['security_deposit'] = df['security_deposit'].astype(str)\n",
    "df['security_deposit'] = df['security_deposit'].str.replace('$', '')\n",
    "df['security_deposit'] = df['security_deposit'].str.replace(',', '')\n",
    "df['security_deposit'] = df['security_deposit'].astype(float)\n",
    "\n",
    "# Remove the dollar signs in the 'cleaning_fee' column\n",
    "df['cleaning_fee'] = df['cleaning_fee'].astype(str)\n",
    "df['cleaning_fee'] = df['cleaning_fee'].str.replace('$', '')\n",
    "df['cleaning_fee'] = df['cleaning_fee'].astype(float)"
   ]
  },
  {
   "cell_type": "markdown",
   "metadata": {},
   "source": [
    "### Data Cleaning (Replace NaN Values)"
   ]
  },
  {
   "cell_type": "code",
   "execution_count": 79,
   "metadata": {},
   "outputs": [
    {
     "name": "stdout",
     "output_type": "stream",
     "text": [
      "<class 'pandas.core.series.Series'>\n"
     ]
    }
   ],
   "source": [
    "# Replace all the NaN values in \"review_scores_rating\" with the mean value\n",
    "mean_review_scores_rating = np.nanmean(df[\"review_scores_rating\"])\n",
    "df[\"review_scores_rating\"].fillna(value=mean_review_scores_rating, inplace=True)\n",
    "\n",
    "# Replace all the NaN values in \"bathrooms\" to the mean value\n",
    "mean_bathrooms = np.nanmean(df[\"bathrooms\"])\n",
    "df[\"bathrooms\"].fillna(value=mean_bathrooms, inplace=True)\n",
    "\n",
    "# Replace all the NaN values in \"bedrooms\" to the mean value\n",
    "mean_bedrooms = np.nanmean(df[\"bedrooms\"])\n",
    "df[\"bedrooms\"].fillna(value=mean_bedrooms, inplace=True)\n",
    "\n",
    "# Replace all the NaN values in \"beds\" to the mean\"\n",
    "mean_beds = np.nanmean(df[\"beds\"])\n",
    "df[\"beds\"].fillna(value=mean_beds, inplace=True)\n",
    "\n",
    "# Replace all the NaN values in \"security_deposit\" with the mean\n",
    "mean_security_deposit = np.nanmean(df[\"security_deposit\"])\n",
    "df[\"security_deposit\"].fillna(value=mean_security_deposit, inplace=True)\n",
    "\n",
    "# Replace all the NaN values in \"cleaning_fee\" with the mean\n",
    "mean_cleaning_fee = np.nanmean(df[\"cleaning_fee\"])\n",
    "df[\"cleaning_fee\"].fillna(value=mean_cleaning_fee, inplace=True)"
   ]
  },
  {
   "cell_type": "markdown",
   "metadata": {},
   "source": [
    "## Summary Statistics and Visualizations"
   ]
  },
  {
   "cell_type": "markdown",
   "metadata": {},
   "source": [
    "### Average Price for each Neighborhood"
   ]
  },
  {
   "cell_type": "code",
   "execution_count": 72,
   "metadata": {},
   "outputs": [
    {
     "name": "stdout",
     "output_type": "stream",
     "text": [
      "151.7997293640054\n"
     ]
    }
   ],
   "source": [
    "# Determine average price of an Airbnb\n",
    "avg_price = np.mean(df[\"price\"])\n",
    "\n",
    "print(avg_price)"
   ]
  },
  {
   "cell_type": "markdown",
   "metadata": {},
   "source": [
    "I found that the average price of an Airbnb in Vancouver is $151.80"
   ]
  },
  {
   "cell_type": "markdown",
   "metadata": {},
   "source": [
    "### Maximum Listing Price"
   ]
  },
  {
   "cell_type": "code",
   "execution_count": 96,
   "metadata": {},
   "outputs": [
    {
     "name": "stdout",
     "output_type": "stream",
     "text": [
      "15000.0\n"
     ]
    }
   ],
   "source": [
    "# Determine the most expensive Airbnb listing in Vancouver\n",
    "max_price = np.max(df[\"price\"])\n",
    "\n",
    "print(max_price)"
   ]
  },
  {
   "cell_type": "markdown",
   "metadata": {},
   "source": [
    "I found the most expensive Airbnb listing in Vancouver is $15,000. This is most definitely an outlier."
   ]
  },
  {
   "cell_type": "markdown",
   "metadata": {},
   "source": [
    "### Maximum Listing Price"
   ]
  },
  {
   "cell_type": "code",
   "execution_count": 74,
   "metadata": {},
   "outputs": [
    {
     "name": "stdout",
     "output_type": "stream",
     "text": [
      "0.0\n"
     ]
    }
   ],
   "source": [
    "# Determine the cheapest Airbnb listing in Vancouver\n",
    "min_price = np.min(df[\"price\"])\n",
    "\n",
    "print(min_price)"
   ]
  },
  {
   "cell_type": "markdown",
   "metadata": {},
   "source": [
    "I found that the cheapest Airbnb listing in Vancouver is $0. This is an outlier for sure, probably shouldn't be included in the training of the model."
   ]
  },
  {
   "cell_type": "code",
   "execution_count": 94,
   "metadata": {},
   "outputs": [
    {
     "name": "stdout",
     "output_type": "stream",
     "text": [
      "Average prices by neighborhood\n",
      "\n",
      "Dunbar Southlands: $168\n",
      "Renfrew-Collingwood: $91\n",
      "Hastings-Sunrise: $137\n",
      "Oakridge: $129\n",
      "Downtown Eastside: $164\n",
      "Kensington-Cedar Cottage: $114\n",
      "Killarney: $74\n",
      "Kerrisdale: $162\n",
      "Sunset: $122\n",
      "Marpole: $111\n",
      "Kitsilano: $158\n",
      "Victoria-Fraserview: $89\n",
      "South Cambie: $158\n",
      "West End: $169\n",
      "Riley Park: $140\n",
      "Shaughnessy: $157\n",
      "West Point Grey: $154\n",
      "Grandview-Woodland: $118\n",
      "Arbutus Ridge: $175\n",
      "Mount Pleasant: $137\n",
      "Fairview: $175\n",
      "Downtown: $192\n",
      "Strathcona: $154\n"
     ]
    },
    {
     "data": {
      "image/png": "[encoded data removed]",
      "text/plain": [
       "<matplotlib.figure.Figure at 0x1d30d3d6160>"
      ]
     },
     "metadata": {},
     "output_type": "display_data"
    }
   ],
   "source": [
    "# Determine most expensive neighborhood on average\n",
    "neighbourhoods = df['neighbourhood_cleansed'].unique()\n",
    "avg_neigh_prices = np.zeros(len(neighbourhoods))\n",
    "\n",
    "for neighbourhood in range(len(neighbourhoods)):\n",
    "    list_of_neigh_price = df.loc[df['neighbourhood_cleansed'] == neighbourhoods[neighbourhood], 'price']\n",
    "    avg_price_single_neigh = np.mean(list_of_neigh_price)\n",
    "    avg_neigh_prices[neighbourhood] = avg_price_single_neigh\n",
    "    \n",
    "print(\"Average prices by neighborhood\\n\")\n",
    "\n",
    "for i in range(len(neighbourhoods)):\n",
    "    print(neighbourhoods[i] + \": ${:0.0f}\".format(avg_neigh_prices[i]))\n",
    "    \n",
    "    \n",
    "inds = neighbourhoods\n",
    "fig, ax = plt.subplots()\n",
    "rects = ax.bar(inds, avg_neigh_prices)\n",
    "ax.set_xlabel(\"Neighbourhood\")\n",
    "ax.set_ylabel('Price')\n",
    "ax.set_title('Price of Vancouver Airbnb by Neighbourhood')\n",
    "plt.xticks(rotation='vertical')\n",
    "plt.show()"
   ]
  },
  {
   "cell_type": "markdown",
   "metadata": {},
   "source": [
    "Most expensive neighborhood for Airbnb's in Vancouver is: Downtown. We see that the top 3 most expensive neighborhoods to live in are Downtown, Arbutus Ridge, and Fairview."
   ]
  },
  {
   "cell_type": "code",
   "execution_count": 76,
   "metadata": {},
   "outputs": [
    {
     "name": "stdout",
     "output_type": "stream",
     "text": [
      "Downtown                    1214\n",
      "Kitsilano                    737\n",
      "West End                     674\n",
      "Mount Pleasant               582\n",
      "Grandview-Woodland           443\n",
      "Kensington-Cedar Cottage     407\n",
      "Downtown Eastside            377\n",
      "Riley Park                   324\n",
      "Fairview                     305\n",
      "Renfrew-Collingwood          266\n",
      "Hastings-Sunrise             228\n",
      "Dunbar Southlands            153\n",
      "Marpole                      149\n",
      "Sunset                       120\n",
      "West Point Grey              104\n",
      "South Cambie                  97\n",
      "Oakridge                      89\n",
      "Kerrisdale                    83\n",
      "Victoria-Fraserview           70\n",
      "Arbutus Ridge                 69\n",
      "Shaughnessy                   68\n",
      "Killarney                     64\n",
      "Strathcona                    28\n",
      "Name: neighbourhood_cleansed, dtype: int64\n"
     ]
    },
    {
     "data": {
      "image/png": "[encoded data removed]",
      "text/plain": [
       "<matplotlib.figure.Figure at 0x1d315412a20>"
      ]
     },
     "metadata": {},
     "output_type": "display_data"
    }
   ],
   "source": [
    "# Find the most common neighborhoods.\n",
    "neighbourhoodCounts = df[\"neighbourhood_cleansed\"].value_counts()\n",
    "\n",
    "print(neighbourhoodCounts)\n",
    "\n",
    "# Small workaround here since the indexing was weird in the provided data structure\n",
    "neighbourhoods = np.asarray(neighbourhoodCounts.axes)[0]\n",
    "counts = neighbourhoodCounts.values\n",
    "\n",
    "fig, ax = plt.subplots()\n",
    "rects = ax.bar(neighbourhoods, counts)\n",
    "ax.set_xlabel(\"Neighborhood\")\n",
    "ax.set_ylabel(\"Number of rentals\")\n",
    "ax.set_title(\"Number of Bookings per Neighborhood\")\n",
    "plt.xticks(rotation='vertical')\n",
    "plt.show()"
   ]
  },
  {
   "cell_type": "markdown",
   "metadata": {},
   "source": [
    "The 3 most popular areas to book in Vancouver are Downtown, Kitsilano, and West End."
   ]
  },
  {
   "cell_type": "markdown",
   "metadata": {},
   "source": [
    "## Distribution of Types of Rooms"
   ]
  },
  {
   "cell_type": "code",
   "execution_count": 110,
   "metadata": {},
   "outputs": [
    {
     "data": {
      "text/plain": [
       "(-1.106417116857987,\n",
       " 1.1052219218283221,\n",
       " -1.110958857176783,\n",
       " 1.1005218503417515)"
      ]
     },
     "execution_count": 110,
     "metadata": {},
     "output_type": "execute_result"
    },
    {
     "data": {
      "image/png": "[encoded data removed]",
      "text/plain": [
       "<matplotlib.figure.Figure at 0x1d31532cdd8>"
      ]
     },
     "metadata": {},
     "output_type": "display_data"
    }
   ],
   "source": [
    "num_entire = np.where(df[\"room_type\"] == \"Entire home/apt\")[0].size\n",
    "num_private = np.where(df[\"room_type\"] == \"Private room\")[0].size\n",
    "num_shared = np.where(df[\"room_type\"] == \"Shared room\")[0].size\n",
    "\n",
    "labels = 'Entire home/apt', 'Private room', 'Shared room'\n",
    "sizes = [num_entire, num_private, num_shared]\n",
    "\n",
    "fig, ax = plt.subplots()\n",
    "ax.pie(sizes, labels=labels, autopct='%1.1f%%',\n",
    "        shadow=True, startangle=90)\n",
    "ax.axis('equal')"
   ]
  },
  {
   "cell_type": "markdown",
   "metadata": {},
   "source": [
    "## Distribution of Cancellation Policy"
   ]
  },
  {
   "cell_type": "code",
   "execution_count": 119,
   "metadata": {},
   "outputs": [
    {
     "name": "stdout",
     "output_type": "stream",
     "text": [
      "['strict' 'moderate' 'flexible']\n",
      "strict      3264\n",
      "moderate    1887\n",
      "flexible    1500\n",
      "Name: cancellation_policy, dtype: int64\n"
     ]
    }
   ],
   "source": [
    "print(df[\"cancellation_policy\"].unique())\n",
    "print(df[\"cancellation_policy\"].value_counts())"
   ]
  },
  {
   "cell_type": "code",
   "execution_count": 123,
   "metadata": {},
   "outputs": [
    {
     "data": {
      "text/plain": [
       "(-1.1080416571238416, 1.111956727150845, -1.10732293779438, 1.100348711323542)"
      ]
     },
     "execution_count": 123,
     "metadata": {},
     "output_type": "execute_result"
    },
    {
     "data": {
      "image/png": "[encoded data removed]",
      "text/plain": [
       "<matplotlib.figure.Figure at 0x1d309f89cc0>"
      ]
     },
     "metadata": {},
     "output_type": "display_data"
    }
   ],
   "source": [
    "num_strict = np.where(df[\"cancellation_policy\"] == \"strict\")[0].size\n",
    "num_moderate = np.where(df[\"cancellation_policy\"] == \"moderate\")[0].size\n",
    "num_flexible = np.where(df[\"cancellation_policy\"] == \"flexible\")[0].size\n",
    "\n",
    "labels = 'strict', 'moderate', 'flexible'\n",
    "sizes = [num_strict, num_moderate, num_flexible]\n",
    "\n",
    "# color scheme from https://medium.com/@kvnamipara/a-better-visualisation-of-pie-charts-by-matplotlib-935b7667d77f\n",
    "colors = ['#ff9999','#66b3ff','#99ff99','#ffcc99']\n",
    "\n",
    "fig, ax = plt.subplots()\n",
    "ax.pie(sizes, labels=labels, autopct='%1.1f%%', colors=colors,\n",
    "        shadow=True, startangle=90)\n",
    "ax.axis('equal')"
   ]
  },
  {
   "cell_type": "markdown",
   "metadata": {},
   "source": [
    "## Scatterplot of Price vs Number of Reviews"
   ]
  },
  {
   "cell_type": "code",
   "execution_count": 116,
   "metadata": {},
   "outputs": [
    {
     "data": {
      "text/plain": [
       "<matplotlib.axes._subplots.AxesSubplot at 0x1d313be4940>"
      ]
     },
     "execution_count": 116,
     "metadata": {},
     "output_type": "execute_result"
    },
    {
     "data": {
      "image/png": "[encoded data removed]",
      "text/plain": [
       "<matplotlib.figure.Figure at 0x1d313be40f0>"
      ]
     },
     "metadata": {},
     "output_type": "display_data"
    }
   ],
   "source": [
    "price_review_df = df[[\"price\", \"number_of_reviews\"]].sort_values(by = \"price\")\n",
    "\n",
    "price_review_df.plot(x=\"price\", y=\"number_of_reviews\", style=\"o\", figsize=(12,8), legend=False, title=\"Price vs Number of Reviews\")"
   ]
  },
  {
   "cell_type": "markdown",
   "metadata": {},
   "source": [
    "From this plot, we see that most listings that cost around \\$100 - \\$400 get the most ratings. This is most likely due to the fact that people book Airbnb's for short stays so they are relatively cheaper. Also because of this plot, we notice that there are a few outliers. There is an extremely popular listing with over 500 reviews and another listing that costs over \\$14,000."
   ]
  },
  {
   "cell_type": "markdown",
   "metadata": {},
   "source": [
    "### Data Cleaning (Removing Unnecessary Features)"
   ]
  },
  {
   "cell_type": "code",
   "execution_count": 53,
   "metadata": {
    "collapsed": true
   },
   "outputs": [],
   "source": [
    "# Drop features that I believe to be irrelevant\n",
    "\n",
    "df = df.drop(columns=['id', 'listing_url', 'scrape_id', 'last_scraped', 'experiences_offered', 'house_rules', 'access', 'city', 'state', 'country_code', 'country', 'transit', 'interaction', 'neighbourhood', 'notes', 'market', 'thumbnail_url', 'medium_url', 'picture_url', 'xl_picture_url', 'host_id', 'host_url', 'smart_location', 'is_location_exact', 'latitude', 'longitude', 'property_type', 'host_name', 'host_location', 'host_about', 'host_since', 'host_is_superhost', 'host_response_time', 'zipcode', 'street', 'host_response_rate', 'host_listings_count', 'host_total_listings_count', 'host_verifications', 'maximum_nights', 'host_identity_verified', 'host_neighbourhood',  'host_thumbnail_url', 'host_picture_url', 'has_availability', 'first_review', 'last_review', 'instant_bookable', 'host_has_profile_pic', 'calendar_last_scraped', 'calendar_updated', 'require_guest_profile_picture', 'requires_license', 'require_guest_phone_verification', 'jurisdiction_names', 'license', 'host_acceptance_rate', 'availability_30', 'availability_60', 'availability_90', 'availability_365', 'neighbourhood_group_cleansed', 'review_scores_value', 'calculated_host_listings_count', 'weekly_price', 'monthly_price', 'review_scores_accuracy', 'review_scores_cleanliness', 'review_scores_checkin', 'review_scores_communication', 'review_scores_location', 'reviews_per_month']) \n",
    "\n",
    "# I removed the weekly_price and montly_price features because most people tend to book for only a few days.\n",
    "\n",
    "# Removed the has_availability feature since all values were True\n",
    "\n",
    "# Originally I thought the street feature would be a decent predictor, but it turns out the data only had \"Vancouver,\n",
    "# BC, Canada\" as the street value\n",
    "\n",
    "\n",
    "# I examined the data and realized that only 141 rows of the 6651 have a value for square_feet.\n",
    "# This corresponds to about only 2% of the data. Some methods that I can use to \"fix\" this are:\n",
    "# - predict those values using a form of regression\n",
    "# - use the mean\n",
    "# - remove the square_feet feature\n",
    "\n",
    "# What I will do as a first attempt is simply remove the square_feet feature.\n",
    "df = df.drop(columns=\"square_feet\")\n",
    "\n",
    "# Convert bed_type categorical data to numerical data using one-hot encoding\n",
    "df = pd.get_dummies(df, columns=[\"bed_type\"])\n",
    "\n",
    "# Convert room_type categorical data to numerical data using one-hot encoding\n",
    "df = pd.get_dummies(df, columns=[\"room_type\"])\n",
    "\n",
    "# Convert neighbourhood_cleansed categorical data to numerical data using one-hot encoding\n",
    "df = pd.get_dummies(df, columns=[\"neighbourhood_cleansed\"])\n",
    "\n",
    "# Convert is_business_travel_ready categorical data to numerical data using one-hot encoding\n",
    "df = pd.get_dummies(df, columns=[\"is_business_travel_ready\"])\n",
    "\n",
    "# Convert cancellation_policy categorical data to numerical data using one-hot encoding\n",
    "df = pd.get_dummies(df, columns=[\"cancellation_policy\"])"
   ]
  },
  {
   "cell_type": "markdown",
   "metadata": {},
   "source": [
    "We have gone from starting with 96 features to 23 features. The features that I will be using are:\n",
    "- name\n",
    "- summary\n",
    "- space\n",
    "- description\n",
    "- neighborhood_overview\n",
    "- amenities\n",
    "\n",
    "- neighbourhood_cleansed\n",
    "- room_type\n",
    "- bed_type\n",
    "- is_business_travel_ready\n",
    "- cancellation_policy\n",
    "\n",
    "- accommodates\n",
    "- bathrooms\n",
    "- bedrooms\n",
    "- beds\n",
    "- price\n",
    "- security_deposit\n",
    "- cleaning_fee\n",
    "- guests_included\n",
    "- extra_people\n",
    "- minimum_nights\n",
    "- number_of_reviews\n",
    "- review_scores_rating"
   ]
  },
  {
   "cell_type": "code",
   "execution_count": 1,
   "metadata": {
    "collapsed": true
   },
   "outputs": [],
   "source": [
    "# Features that will require bag of words / analysis of each word\n",
    "# - name\n",
    "# - summary\n",
    "# - space\n",
    "# - description\n",
    "# - neighborhood_overview\n",
    "# - amenities\n",
    "\n",
    "\n",
    "# Features that will need to be changed to categorical variables\n",
    "# - neighbourhood_cleansed\n",
    "# - room_type\n",
    "# - bed_type\n",
    "# - is_business_travel_ready\n",
    "# - cancellation_policy\n",
    "\n",
    "\n",
    "# Numerical Data\n",
    "# - accommodates\n",
    "# - bathrooms\n",
    "# - bedrooms\n",
    "# - beds\n",
    "# - price\n",
    "# - security_deposit\n",
    "# - cleaning_fee\n",
    "# - guests_included\n",
    "# - extra_people\n",
    "# - minimum_nights\n",
    "# - number_of_reviews\n",
    "# - review_scores_rating"
   ]
  },
  {
   "cell_type": "markdown",
   "metadata": {},
   "source": [
    "### Normalize Numerical Data"
   ]
  },
  {
   "cell_type": "code",
   "execution_count": 55,
   "metadata": {
    "collapsed": true
   },
   "outputs": [],
   "source": [
    "df_numeric = df[[\"accommodates\", \"bathrooms\", \"bedrooms\", \"beds\", \"price\", \"security_deposit\", \"cleaning_fee\", \"guests_included\", \"extra_people\", \"minimum_nights\", \"number_of_reviews\", \"review_scores_rating\"]]\n",
    "\n",
    "# Convert to a matrix in order to use sklearn's normalize\n",
    "df_numeric_matrix = df_numeric.as_matrix()\n",
    "\n",
    "# Normalize with sklearn's normalize\n",
    "matrix_numeric_normalized = normalize(X=df_numeric_matrix, norm='l2')\n",
    "\n",
    "# Convert back to a Pandas Dataframe\n",
    "df_numeric_normalized = pd.DataFrame(matrix_numeric_normalized)\n",
    "\n",
    "# Replace the non-normalized numerical features with normalized features\n",
    "df[[\"accommodates\", \"bathrooms\", \"bedrooms\", \"beds\", \"price\", \"security_deposit\", \"cleaning_fee\",\n",
    "    \"guests_included\", \"extra_people\", \"minimum_nights\", \"number_of_reviews\",\n",
    "    \"review_scores_rating\"]] = df_numeric_normalized"
   ]
  },
  {
   "cell_type": "code",
   "execution_count": 56,
   "metadata": {
    "collapsed": true
   },
   "outputs": [],
   "source": [
    "# Split dataset into 60-training set 20-validation set and 20-test set approximately\n",
    "# Let's try to do regression without the bag of words / summary features first\n",
    "dfY = df[\"price\"]\n",
    "dfX = df.drop([\"price\", \"name\", \"summary\", \"space\", \"description\", \"neighborhood_overview\", \"amenities\"], axis=1)\n",
    "X_train, X_test, y_train, y_test = train_test_split(dfX, dfY, test_size=0.2, random_state=1)\n",
    "X_train, X_val, y_train, y_val = train_test_split(X_train, y_train, test_size = 0.2, random_state=1)"
   ]
  },
  {
   "cell_type": "markdown",
   "metadata": {},
   "source": [
    "### Least Squares Linear Regression"
   ]
  },
  {
   "cell_type": "code",
   "execution_count": 57,
   "metadata": {
    "collapsed": true
   },
   "outputs": [],
   "source": [
    "# Let's try to do regression without the bag of words / summary features first\n",
    "\n",
    "# Least squares regression\n",
    "linear_model = LinearRegression()\n",
    "linear_model.fit(X_train, y_train)\n",
    "\n",
    "linear_y_pred = linear_model.predict(X_val)\n",
    "linear_val_err = np.sum((linear_y_pred - y_val)**2)"
   ]
  },
  {
   "cell_type": "markdown",
   "metadata": {},
   "source": [
    "Validation error for linear regression is 12.083"
   ]
  },
  {
   "cell_type": "markdown",
   "metadata": {},
   "source": [
    "### Least Squares Linear Regression with L2 Regularization (Ridge Regression)"
   ]
  },
  {
   "cell_type": "code",
   "execution_count": 58,
   "metadata": {
    "collapsed": true
   },
   "outputs": [],
   "source": [
    "ridge_avg_val_err = 0\n",
    "\n",
    "for i in np.arange(1,11):\n",
    "    ridge_model = Ridge(alpha=i)\n",
    "    ridge_model.fit(X_train, y_train)\n",
    "    \n",
    "    ridge_y_pred = ridge_model.predict(X_val)\n",
    "    ridge_val_err = np.sum((ridge_y_pred - y_val)**2)\n",
    "    ridge_avg_val_err += ridge_val_err\n",
    "    \n",
    "ridge_avg_val_err = ridge_avg_val_err / len(np.arange(1,11))"
   ]
  },
  {
   "cell_type": "markdown",
   "metadata": {},
   "source": [
    "Validation error using different regularization strengths is 12.931"
   ]
  },
  {
   "cell_type": "markdown",
   "metadata": {},
   "source": [
    "### Multi-Layer Perceptron Regression"
   ]
  },
  {
   "cell_type": "code",
   "execution_count": 60,
   "metadata": {
    "collapsed": true
   },
   "outputs": [],
   "source": [
    "mlp_avg_val_err = 0\n",
    "\n",
    "for i in np.arange(1,11):\n",
    "    mlp_model = MLPRegressor(hidden_layer_sizes=(24, 12), activation='relu', learning_rate='adaptive')\n",
    "    mlp_model.fit(X_train, y_train)\n",
    "\n",
    "    mlp_y_pred = mlp_model.predict(X_val)\n",
    "    mlp_val_err = np.sum((mlp_y_pred - y_val)**2)\n",
    "    mlp_avg_val_err += mlp_val_err\n",
    "\n",
    "mlp_avg_val_err /= len(np.arange(1,11))"
   ]
  },
  {
   "cell_type": "markdown",
   "metadata": {},
   "source": [
    "Validation error using two hidden layer of sizes 24 and 12 is 5.396."
   ]
  },
  {
   "cell_type": "markdown",
   "metadata": {},
   "source": [
    "### Random Forest Regression"
   ]
  },
  {
   "cell_type": "code",
   "execution_count": 61,
   "metadata": {
    "collapsed": true
   },
   "outputs": [],
   "source": [
    "rf_avg_val_err = 0\n",
    "\n",
    "for i in range(1,11):\n",
    "    rf_model = RandomForestRegressor(n_estimators=15, criterion='mse', bootstrap=True)\n",
    "    rf_model.fit(X_train, y_train)\n",
    "    \n",
    "    rf_y_pred = rf_model.predict(X_val)\n",
    "    rf_val_err = np.sum((rf_y_pred - y_val)**2)\n",
    "    rf_avg_val_err += rf_val_err\n",
    "    \n",
    "rf_avg_val_err /= len(np.arange(1,11))"
   ]
  },
  {
   "cell_type": "code",
   "execution_count": 62,
   "metadata": {},
   "outputs": [
    {
     "name": "stdout",
     "output_type": "stream",
     "text": [
      "1.2408745046045389\n"
     ]
    }
   ],
   "source": [
    "print(rf_avg_val_err)"
   ]
  },
  {
   "cell_type": "markdown",
   "metadata": {},
   "source": [
    "Validation error using random forest regression with 15 trees is 1.226"
   ]
  },
  {
   "cell_type": "markdown",
   "metadata": {},
   "source": [
    "Overall, the best model found was using the Random Forest Regression resulting in a validation error of 1.226 averaged over 10 models."
   ]
  },
  {
   "cell_type": "markdown",
   "metadata": {},
   "source": [
    "### Feature Selection"
   ]
  },
  {
   "cell_type": "markdown",
   "metadata": {},
   "source": [
    "Let's try to find the top 5 features that help predict listing price."
   ]
  },
  {
   "cell_type": "code",
   "execution_count": 63,
   "metadata": {},
   "outputs": [
    {
     "name": "stdout",
     "output_type": "stream",
     "text": [
      "[False False False False  True  True False False False  True  True False\n",
      " False False False False  True False False False False False False False\n",
      " False False False False False False False False False False False False\n",
      " False False False False False False False False False False False]\n"
     ]
    }
   ],
   "source": [
    "# We will use recursive feature elimination for feature selection with the \"last\" Random Forest model\n",
    "selector = RFE(estimator=rf_model, n_features_to_select=5, step=1)\n",
    "selector = selector.fit(X_train, y_train)\n",
    "print(selector.support_)"
   ]
  },
  {
   "cell_type": "markdown",
   "metadata": {},
   "source": [
    "From the dataset, we see that top 5 predictive features are:\n",
    "- security_deposit\n",
    "- cleaning_fee\n",
    "- extra_people\n",
    "- number_of_reviews\n",
    "- review_scores_rating"
   ]
  },
  {
   "cell_type": "markdown",
   "metadata": {},
   "source": [
    "Interestingly enough, the neighbourhood of a listing doesn't matter as much as the above 5 features. "
   ]
  },
  {
   "cell_type": "markdown",
   "metadata": {},
   "source": [
    "# Conclusion"
   ]
  },
  {
   "cell_type": "markdown",
   "metadata": {},
   "source": [
    "In this exploratory data analysis and machine learning project, I analyzed the features of the Vancouver Airbnb dataset.\n",
    "\n",
    "Summary of Findings:\n",
    "- Average price is \\$151.80 for a single night.\n",
    "- Most expensive neighborhood for Airbnb's in Vancouver is: Downtown.\n",
    "- The 3 most popular areas to book in Vancouver are Downtown (1214 listings) , Kitsilano (737 listings), and West End (674 listings).\n",
    "- Distriubtion of room type are entire home/apt (68.2%), private room (29.3%), and shared room (2.5%). \n",
    "- Distribution of cancellation policy are strict (49.1%), moderate (28.4%), and flexible (22.6%).\n",
    "- Majority of listings cost between \\$100 and \\$400 and have the most reviews, meaning they get booked the most often.\n",
    "- The top three most important features for predicting a listing price in Vancouver is security deposit cost, cleaning fee, and how much it costs for extra people to live there."
   ]
  }
 ],
 "metadata": {
  "kernelspec": {
   "display_name": "Python 3",
   "language": "python",
   "name": "python3"
  },
  "language_info": {
   "codemirror_mode": {
    "name": "ipython",
    "version": 3
   },
   "file_extension": ".py",
   "mimetype": "text/x-python",
   "name": "python",
   "nbconvert_exporter": "python",
   "pygments_lexer": "ipython3",
   "version": "3.6.3"
  }
 },
 "nbformat": 4,
 "nbformat_minor": 2
}
